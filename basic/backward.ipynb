{
 "cells": [
  {
   "cell_type": "code",
   "execution_count": 1,
   "id": "7fabd69e",
   "metadata": {},
   "outputs": [],
   "source": [
    "%matplotlib inline"
   ]
  },
  {
   "cell_type": "markdown",
   "id": "ef7df3f7",
   "metadata": {},
   "source": [
    "## 一个神经网络的典型训练过程如下：\n",
    "- 定义包含可学习参数的神经网络模型\n",
    "- 在数据集上迭代\n",
    "- 通过神经网络处理输入\n",
    "- 计算损失函数\n",
    "- 计算损失函数的梯度反向传播回去的参数\n",
    "- 更新网络参数"
   ]
  },
  {
   "cell_type": "code",
   "execution_count": 2,
   "id": "24ad1298",
   "metadata": {},
   "outputs": [],
   "source": [
    "# 定义一个网络\n",
    "import torch\n",
    "import torch.nn as nn\n",
    "import torch.nn.functional as F\n",
    "\n",
    "class Net(nn.Module):  \n",
    "    def __init__(self):\n",
    "        super(Net, self).__init__()\n",
    "        # 1 input image channel\n",
    "        # 6 output image channel\n",
    "        # 5*5 square convolution\n",
    "        self.conv1 = nn.Conv2d(1,6,5)\n",
    "        self.conv2 = nn.Conv2d(6,16,5)\n",
    "        # affine operation:\n",
    "        self.fc1 = nn.Linear(16*5*5, 120)\n",
    "        self.fc2 = nn.Linear(120, 84)\n",
    "        self.fc3 = nn.Linear(84, 10)\n",
    "    def forward(self, x):\n",
    "        x = F.max_pool2d(F.relu(self.conv1(x)), (2,2))\n",
    "        x = F.max_pool2d(F.relu(self.conv2(x)), 2)\n",
    "        x = x.view(-1, self.num_flat_features(x))\n",
    "        x = F.relu(self.fc1(x))\n",
    "        x = F.relu(self.fc2(x))\n",
    "        x = self.fc3(x)\n",
    "        return x\n",
    "    \n",
    "    def num_flat_features(self,x):\n",
    "        size = x.size()[1:]\n",
    "        num_features = 1\n",
    "        for s in size:\n",
    "            num_features *= s\n",
    "        return num_features\n",
    "        \n",
    "        "
   ]
  },
  {
   "cell_type": "markdown",
   "id": "e691ebc9",
   "metadata": {},
   "source": [
    "- 模型中必须定义forward函数， backward函数会被autograd自动创建。\n",
    "- net.parameters()返回可以被学习的参数。\n"
   ]
  },
  {
   "cell_type": "code",
   "execution_count": 4,
   "id": "3add3cd9",
   "metadata": {},
   "outputs": [
    {
     "name": "stdout",
     "output_type": "stream",
     "text": [
      "10\n",
      "torch.Size([6, 1, 5, 5])\n"
     ]
    }
   ],
   "source": [
    "net = Net()\n",
    "params = list(net.parameters())\n",
    "print(len(params))\n",
    "print(params[0].size())"
   ]
  },
  {
   "cell_type": "code",
   "execution_count": 5,
   "id": "680782ee",
   "metadata": {},
   "outputs": [
    {
     "name": "stdout",
     "output_type": "stream",
     "text": [
      "tensor([[ 0.1057, -0.1054,  0.1059,  0.0558, -0.1155, -0.0152, -0.1152, -0.1473,\n",
      "         -0.1676,  0.0847]], grad_fn=<AddmmBackward0>)\n"
     ]
    }
   ],
   "source": [
    "input = torch.randn(1,1,32,32)\n",
    "out = net(input)\n",
    "print(out)\n"
   ]
  },
  {
   "cell_type": "markdown",
   "id": "948fa1d3",
   "metadata": {},
   "source": [
    "## 损失函数："
   ]
  },
  {
   "cell_type": "code",
   "execution_count": 8,
   "id": "aeed9791",
   "metadata": {},
   "outputs": [
    {
     "data": {
      "text/plain": [
       "torch.Size([1, 10])"
      ]
     },
     "execution_count": 8,
     "metadata": {},
     "output_type": "execute_result"
    }
   ],
   "source": [
    "criterion = nn.MSELoss()\n",
    "out.shape"
   ]
  },
  {
   "cell_type": "code",
   "execution_count": 9,
   "id": "8a71cab9",
   "metadata": {},
   "outputs": [
    {
     "name": "stdout",
     "output_type": "stream",
     "text": [
      "tensor(1.9393, grad_fn=<MseLossBackward0>)\n",
      "<MseLossBackward0 object at 0x000001F4107D37C0>\n",
      "<AddmmBackward0 object at 0x000001F410871310>\n",
      "<AccumulateGrad object at 0x000001F4107D37C0>\n"
     ]
    }
   ],
   "source": [
    "target = torch.randn(1,10)\n",
    "loss = criterion(out,target)\n",
    "print(loss)\n",
    "print(loss.grad_fn)  # MSELoss\n",
    "print(loss.grad_fn.next_functions[0][0])  # Linear\n",
    "print(loss.grad_fn.next_functions[0][0].next_functions[0][0])  # ReLU"
   ]
  },
  {
   "cell_type": "markdown",
   "id": "530c8a31",
   "metadata": {},
   "source": [
    "## 反向传播\n",
    "- 调用loss.backward()获得反向传播的误差。\n",
    "- 但是在调用前需要清除已存在的梯度，否则梯度将被累加到已存在的梯度。\n",
    "- 现在，我们将调用loss.backward()，并查看conv1层的偏差（bias）项在反向传播前后的梯度。"
   ]
  },
  {
   "cell_type": "code",
   "execution_count": 10,
   "id": "a9b077b1",
   "metadata": {},
   "outputs": [],
   "source": [
    "net.zero_grad()"
   ]
  },
  {
   "cell_type": "code",
   "execution_count": 11,
   "id": "a0a514b6",
   "metadata": {},
   "outputs": [],
   "source": [
    "loss.backward()"
   ]
  },
  {
   "cell_type": "markdown",
   "id": "fce2f860",
   "metadata": {},
   "source": [
    "## 更新权重"
   ]
  },
  {
   "cell_type": "code",
   "execution_count": 12,
   "id": "79959b61",
   "metadata": {},
   "outputs": [],
   "source": [
    "learning_rate = 0.01\n",
    "for f in net.parameters():\n",
    "    f.data.sub_(f.grad.data*learning_rate)"
   ]
  },
  {
   "cell_type": "code",
   "execution_count": 13,
   "id": "2f2e7a1d",
   "metadata": {},
   "outputs": [],
   "source": [
    "## 使用torch.optim包实现所有的不同学习率的更新规则：\n",
    "import torch.optim as optim\n",
    "optimizer = optim.SGD(net.parameters(), lr=0.01)\n",
    "## when in training loop:\n",
    "optimizer.zero_grad()\n",
    "input = torch.randn(1,1,32,32)\n",
    "output = net(input)\n",
    "loss = criterion(output, target)\n",
    "loss.backward()\n",
    "optimizer.step()\n"
   ]
  },
  {
   "cell_type": "code",
   "execution_count": null,
   "id": "13be692c",
   "metadata": {},
   "outputs": [],
   "source": []
  }
 ],
 "metadata": {
  "kernelspec": {
   "display_name": "pytorch",
   "language": "python",
   "name": "pytorch"
  },
  "language_info": {
   "codemirror_mode": {
    "name": "ipython",
    "version": 3
   },
   "file_extension": ".py",
   "mimetype": "text/x-python",
   "name": "python",
   "nbconvert_exporter": "python",
   "pygments_lexer": "ipython3",
   "version": "3.8.0"
  }
 },
 "nbformat": 4,
 "nbformat_minor": 5
}
