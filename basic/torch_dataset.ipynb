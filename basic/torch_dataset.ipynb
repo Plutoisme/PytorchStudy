{
 "cells": [
  {
   "cell_type": "code",
   "execution_count": 1,
   "id": "04b02eb5",
   "metadata": {},
   "outputs": [],
   "source": [
    "import torch\n",
    "from torch.utils.data import Dataset"
   ]
  },
  {
   "cell_type": "code",
   "execution_count": 7,
   "id": "51ccb89b",
   "metadata": {},
   "outputs": [],
   "source": [
    "class TensorDataset(Dataset):\n",
    "    '''\n",
    "    继承Dataset类，重载了3个方法:\n",
    "    1. __init__()\n",
    "    2. __getitem__()\n",
    "    3.__len__()\n",
    "    '''\n",
    "    def __init__(self, data_tensor, target_tensor):\n",
    "        self.data_tensor = data_tensor\n",
    "        self.target_tensor = target_tensor\n",
    "    def __getitem__(self, index):\n",
    "        return self.data_tensor[index], self.target_tensor[index]\n",
    "    def __len__(self):\n",
    "        return self.data_tensor.size(0)"
   ]
  },
  {
   "cell_type": "code",
   "execution_count": 3,
   "id": "0c6beeba",
   "metadata": {},
   "outputs": [
    {
     "name": "stdout",
     "output_type": "stream",
     "text": [
      "data_tensor shape: torch.Size([4, 3])\n",
      "target_tensor shape: torch.Size([4])\n"
     ]
    }
   ],
   "source": [
    "data_tensor = torch.randn(4,3)\n",
    "target_tensor = torch.rand(4)\n",
    "print(\"data_tensor shape:\",data_tensor.shape)\n",
    "print(\"target_tensor shape:\",target_tensor.shape)"
   ]
  },
  {
   "cell_type": "code",
   "execution_count": 8,
   "id": "cc44f4db",
   "metadata": {},
   "outputs": [
    {
     "name": "stdout",
     "output_type": "stream",
     "text": [
      "(tensor([ 0.2156,  0.4459, -0.5127]), tensor(0.0927))\n",
      "4\n"
     ]
    }
   ],
   "source": [
    "# 将数据封装成dataset：\n",
    "tensor_dataset = TensorDataset(data_tensor, target_tensor)\n",
    "print(tensor_dataset[1])\n",
    "print(len(tensor_dataset))"
   ]
  },
  {
   "cell_type": "markdown",
   "id": "3dbe3bda",
   "metadata": {},
   "source": [
    "## torch.utils.data.Dataloader\n",
    "- dataset：这个就是pytorch已有的数据读取接口（比如torchvision.datasets.ImageFolder）或者自定义的数据接口的输出，该输出要么是torch.utils.data.Dataset类的对象，要么是继承自torch.utils.data.Dataset类的自定义类的对象。\n",
    "- batch_size：根据具体情况设置即可。\n",
    "- shuffle：随机打乱顺序，一般在训练数据中会采用。\n",
    "- collate_fn：是用来处理不同情况下的输入dataset的封装，一般采用默认即可，除非你自定义的数据读取输出非常少见。\n",
    "- batch_sampler：从注释可以看出，其和batch_size、shuffle等参数是互斥的，一般采用默认。\n",
    "- sampler：从代码可以看出，其和shuffle是互斥的，一般默认即可。\n",
    "- num_workers：从注释可以看出这个参数必须大于等于0，0的话表示数据导入在主进程中进行，其他大于0的数表示通过多个进程来导入数据，可以加快数据导入速度。\n",
    "- pin_memory：注释写得很清楚了： pin_memory (bool, optional): If True, the data loader will copy tensors into CUDA pinned memory before returning them. 也就是一个数据拷贝的问题。\n",
    "timeout：是用来设置数据读取的超时时间的，但超过这个时间还没读取到数据的话就会报错。\n"
   ]
  },
  {
   "cell_type": "code",
   "execution_count": 10,
   "id": "6bfab46a",
   "metadata": {},
   "outputs": [
    {
     "name": "stdout",
     "output_type": "stream",
     "text": [
      "tensor([[-1.1204, -1.7425,  0.7143],\n",
      "        [ 0.2156,  0.4459, -0.5127]]) tensor([0.3745, 0.0927])\n",
      "tensor([[2.0071, 0.1439, 2.2410],\n",
      "        [0.0093, 0.2684, 0.6014]]) tensor([0.1460, 0.8138])\n"
     ]
    }
   ],
   "source": [
    "# 编写train_dataloader\n",
    "from torch.utils.data import DataLoader\n",
    "tensor_dataloader = DataLoader(tensor_dataset,\n",
    "                              batch_size=2,\n",
    "                              shuffle=True,\n",
    "                              num_workers=0)\n",
    "\n",
    "for data, target in tensor_dataloader:\n",
    "    print(data, target)"
   ]
  },
  {
   "cell_type": "code",
   "execution_count": null,
   "id": "f297697b",
   "metadata": {},
   "outputs": [],
   "source": []
  }
 ],
 "metadata": {
  "kernelspec": {
   "display_name": "pytorch",
   "language": "python",
   "name": "pytorch"
  },
  "language_info": {
   "codemirror_mode": {
    "name": "ipython",
    "version": 3
   },
   "file_extension": ".py",
   "mimetype": "text/x-python",
   "name": "python",
   "nbconvert_exporter": "python",
   "pygments_lexer": "ipython3",
   "version": "3.8.0"
  }
 },
 "nbformat": 4,
 "nbformat_minor": 5
}
